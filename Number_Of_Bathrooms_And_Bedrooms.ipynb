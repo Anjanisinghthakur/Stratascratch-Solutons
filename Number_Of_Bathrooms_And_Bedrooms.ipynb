{
  "nbformat": 4,
  "nbformat_minor": 0,
  "metadata": {
    "colab": {
      "provenance": [],
      "authorship_tag": "ABX9TyME+SZqx/LZY2TSoncTBrxu",
      "include_colab_link": true
    },
    "kernelspec": {
      "name": "python3",
      "display_name": "Python 3"
    },
    "language_info": {
      "name": "python"
    }
  },
  "cells": [
    {
      "cell_type": "markdown",
      "metadata": {
        "id": "view-in-github",
        "colab_type": "text"
      },
      "source": [
        "<a href=\"https://colab.research.google.com/github/Anjanisinghthakur/Stratascratch-Solutons/blob/main/Number_Of_Bathrooms_And_Bedrooms.ipynb\" target=\"_parent\"><img src=\"https://colab.research.google.com/assets/colab-badge.svg\" alt=\"Open In Colab\"/></a>"
      ]
    },
    {
      "cell_type": "code",
      "execution_count": null,
      "metadata": {
        "id": "xWMY9r3SVRES"
      },
      "outputs": [],
      "source": [
        "#Number Of Bathrooms And Bedrooms\n",
        "\n",
        "#Find the average number of bathrooms and bedrooms for each city’s property types. Output the result along with the city name and the property type.\n",
        "\n",
        "#Table: airbnb_search_details\n"
      ]
    },
    {
      "cell_type": "code",
      "source": [
        "# Pyspark code\n",
        "# Import your libraries\n",
        "import pyspark\n",
        "from pyspark.sql.functions import *\n",
        "from pyspark.sql.window import Window\n",
        "\n",
        "# Start writing code\n",
        "#airbnb_search_details.show()\n",
        "window_spec=Window.partitionBy(airbnb_search_details.city,airbnb_search_details.property_type)\n",
        "res=airbnb_search_details.withColumn(\"n_bathrooms_avg\", avg(\"bathrooms\").over(window_spec)).withColumn(\"n_bedrooms_avg\", avg(\"bedrooms\").over(window_spec))\n",
        "res=res.select(res.city, res.property_type, res.n_bathrooms_avg, res.n_bedrooms_avg)\n",
        "res=res.distinct()\n",
        "res.show()\n",
        "\n",
        "# To validate your solution, convert your final pySpark df to a pandas df\n",
        "res.toPandas()"
      ],
      "metadata": {
        "id": "oEaw2Nw2WBcs"
      },
      "execution_count": null,
      "outputs": []
    },
    {
      "cell_type": "code",
      "source": [
        "#SQL solutions\n",
        "select city,property_type, avg(bathrooms) as n_bathrooms_avg,\n",
        "avg(bedrooms)  as n_bedrooms_avg\n",
        "from airbnb_search_details\n",
        "group by 1,2\n",
        ";\n"
      ],
      "metadata": {
        "id": "d5GjoAdLW3KG"
      },
      "execution_count": null,
      "outputs": []
    }
  ]
}