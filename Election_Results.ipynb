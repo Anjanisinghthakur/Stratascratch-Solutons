{
  "nbformat": 4,
  "nbformat_minor": 0,
  "metadata": {
    "colab": {
      "provenance": [],
      "authorship_tag": "ABX9TyPew5FZXGaSw1az24b+1/w6",
      "include_colab_link": true
    },
    "kernelspec": {
      "name": "python3",
      "display_name": "Python 3"
    },
    "language_info": {
      "name": "python"
    }
  },
  "cells": [
    {
      "cell_type": "markdown",
      "metadata": {
        "id": "view-in-github",
        "colab_type": "text"
      },
      "source": [
        "<a href=\"https://colab.research.google.com/github/Anjanisinghthakur/Stratascratch-Solutons/blob/main/Election_Results.ipynb\" target=\"_parent\"><img src=\"https://colab.research.google.com/assets/colab-badge.svg\" alt=\"Open In Colab\"/></a>"
      ]
    },
    {
      "cell_type": "code",
      "execution_count": null,
      "metadata": {
        "id": "QjPFF9nvB4Cd"
      },
      "outputs": [],
      "source": [
        "#The election is conducted in a city and everyone can vote for one or more candidates, or choose not to vote at all. Each person has 1 vote so if they vote for multiple candidates, their vote gets equally split across these candidates. For example, if a person votes for 2 candidates, these candidates receive an equivalent of 0.5 vote each. Some voters have chosen not to vote, which explains the blank entries in the dataset.\n",
        "\n",
        "\n",
        "#Find out who got the most votes and won the election. Output the name of the candidate or multiple names in case of a tie.\n",
        "#To avoid issues with a floating-point error you can round the number of votes received by a candidate to 3 decimal places.\n",
        "\n",
        "#Table: voting_results"
      ]
    },
    {
      "cell_type": "code",
      "source": [
        "#Pyspark solution\n",
        "#Import your libraries\n",
        "import pyspark\n",
        "from pyspark.sql.functions import *\n",
        "from pyspark.sql.window import Window\n",
        "# Start writing code\n",
        "voting_results\n",
        "voting_results=voting_results.filter(voting_results.candidate.isNotNull())\n",
        "#voting_results.show()\n",
        "spec1=Window.partitionBy(voting_results.voter)\n",
        "spec2=Window.partitionBy(voting_results.voter,voting_results.candidate)\n",
        "res=voting_results.withColumn('total_vpc', count(voting_results.candidate).over(spec1)).withColumn('ind', lit(1))\n",
        "res=res.withColumn('vote_count', res.ind/res.total_vpc)\n",
        "res=res.select(res.candidate, res.vote_count)\n",
        "res=res.groupBy(res.candidate).agg(sum(res.vote_count).alias('vote_count'))\n",
        "\n",
        "res=res.withColumn('rnk', rank().over(Window.orderBy(res.vote_count.desc())))\n",
        "res=res.select(res.candidate).where(res.rnk==1)\n",
        "res.show()\n",
        "\n",
        "# To validate your solution, convert your final pySpark df to a pandas df\n",
        "res.toPandas()"
      ],
      "metadata": {
        "id": "lPS95y0qB97W"
      },
      "execution_count": null,
      "outputs": []
    },
    {
      "cell_type": "code",
      "source": [
        "#SQL solution\n",
        "with temp as(\n",
        "select voter, candidate, count(voter) over(partition by voter) count_each,1 as new\n",
        "from voting_results\n",
        "where candidate != ''\n",
        ")\n",
        "select candidate from\n",
        "(select candidate, sum(prob) prob from(\n",
        "select candidate,(new/count_each) prob  from temp\n",
        ")\n",
        "a\n",
        "group by 1\n",
        "order by 2 desc\n",
        ")b\n",
        "limit 1"
      ],
      "metadata": {
        "id": "EqAe9iBkDFP0"
      },
      "execution_count": null,
      "outputs": []
    }
  ]
}