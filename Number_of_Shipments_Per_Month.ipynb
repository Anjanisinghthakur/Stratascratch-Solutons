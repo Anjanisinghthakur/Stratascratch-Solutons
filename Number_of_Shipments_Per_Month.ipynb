{
  "nbformat": 4,
  "nbformat_minor": 0,
  "metadata": {
    "colab": {
      "provenance": [],
      "authorship_tag": "ABX9TyM7TsbUBwroMIIBkMS4SPyQ",
      "include_colab_link": true
    },
    "kernelspec": {
      "name": "python3",
      "display_name": "Python 3"
    },
    "language_info": {
      "name": "python"
    }
  },
  "cells": [
    {
      "cell_type": "markdown",
      "metadata": {
        "id": "view-in-github",
        "colab_type": "text"
      },
      "source": [
        "<a href=\"https://colab.research.google.com/github/Anjanisinghthakur/Stratascratch-Solutons/blob/main/Number_of_Shipments_Per_Month.ipynb\" target=\"_parent\"><img src=\"https://colab.research.google.com/assets/colab-badge.svg\" alt=\"Open In Colab\"/></a>"
      ]
    },
    {
      "cell_type": "code",
      "execution_count": null,
      "metadata": {
        "id": "uQ61f9zDfR-R"
      },
      "outputs": [],
      "source": [
        "#Write a query that will calculate the number of shipments per month. The unique key for one shipment is a combination of shipment_id and sub_id. Output the year_month in format YYYY-MM and the number of shipments in that month.\n",
        "\n",
        "#Table: amazon_shipment"
      ]
    },
    {
      "cell_type": "code",
      "source": [
        "#Pyspark code\n",
        "# Import your libraries\n",
        "import pyspark\n",
        "from pyspark.sql.functions import month, count, year, concat, lit\n",
        "\n",
        "# Start writing code\n",
        "amazon_shipment.show()\n",
        "amazon_shipment=amazon_shipment.withColumn(\"months\",month(amazon_shipment.shipment_date)).withColumn(\"year\",year(amazon_shipment.shipment_date))\n",
        "amazon_shipment=amazon_shipment.groupBy(amazon_shipment.months, amazon_shipment.year).count()\n",
        "amazon_shipment=amazon_shipment.withColumnRenamed(\"count\",\"counts\")\n",
        "amazon_shipment=amazon_shipment.withColumn(\"year_month\",concat(amazon_shipment.year,lit(\"-\"),amazon_shipment.months))\n",
        "amazon_shipment=amazon_shipment.select(amazon_shipment.year_month,amazon_shipment.counts)\n",
        "amazon_shipment.show()\n",
        "\n",
        "# To validate your solution, convert your final pySpark df to a pandas df\n",
        "amazon_shipment.toPandas()"
      ],
      "metadata": {
        "id": "UjXMDZGWlbfx"
      },
      "execution_count": null,
      "outputs": []
    },
    {
      "cell_type": "code",
      "source": [
        "#SQL code\n",
        "select count(shipment_id),\n",
        "DATE_FORMAT((shipment_date), '%Y-%m') from amazon_shipment\n",
        "group by 2;"
      ],
      "metadata": {
        "id": "7BmCZAcflhLy"
      },
      "execution_count": null,
      "outputs": []
    }
  ]
}