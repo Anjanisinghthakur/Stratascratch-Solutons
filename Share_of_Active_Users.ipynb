{
  "nbformat": 4,
  "nbformat_minor": 0,
  "metadata": {
    "colab": {
      "provenance": [],
      "authorship_tag": "ABX9TyNWjTx4E+6Qox/OK1JX98yp",
      "include_colab_link": true
    },
    "kernelspec": {
      "name": "python3",
      "display_name": "Python 3"
    },
    "language_info": {
      "name": "python"
    }
  },
  "cells": [
    {
      "cell_type": "markdown",
      "metadata": {
        "id": "view-in-github",
        "colab_type": "text"
      },
      "source": [
        "<a href=\"https://colab.research.google.com/github/Anjanisinghthakur/Stratascratch-Solutons/blob/main/Share_of_Active_Users.ipynb\" target=\"_parent\"><img src=\"https://colab.research.google.com/assets/colab-badge.svg\" alt=\"Open In Colab\"/></a>"
      ]
    },
    {
      "cell_type": "code",
      "execution_count": null,
      "metadata": {
        "id": "N5Y6QP4AIFwt"
      },
      "outputs": [],
      "source": [
        "#Share of Active Users\n",
        "#Calculate the percentage of users who are both from the US and have an 'open' status, as indicated in the fb_active_users table.\n",
        "\n",
        "#Table: fb_active_users"
      ]
    },
    {
      "cell_type": "code",
      "source": [
        "#Pyspark Solution\n",
        "#Import your libraries\n",
        "#This is almost done\n",
        "import pyspark\n",
        "from pyspark.sql.functions import *\n",
        "from pyspark.sql import SparkSession\n",
        "from pyspark.sql.types import StructType, StructField, FloatType, DoubleType\n",
        "\n",
        "\n",
        "# Start Spark session\n",
        "spark = SparkSession.builder.appName(\"FloatToDF\").getOrCreate()\n",
        "# Start writing code\n",
        "fb_active_users\n",
        "res=fb_active_users.filter((fb_active_users.country=='USA') & (fb_active_users.status=='open'))\n",
        "res.show()\n",
        "rec_count1=float(fb_active_users.count())\n",
        "rec_count2=float(res.count())\n",
        "res_per=float((rec_count2/rec_count1)*100)\n",
        "res=res.withColumn('us_active_share', lit(res_per))\n",
        "res=res.select(res.us_active_share).distinct()\n",
        "res.show()\n",
        "# To validate your solution, convert your final pySpark df to a pandas df\n",
        "res.toPandas()"
      ],
      "metadata": {
        "id": "XcxTj5HkIT-J"
      },
      "execution_count": null,
      "outputs": []
    },
    {
      "cell_type": "code",
      "source": [
        "#SQL solution\n",
        "with temp1 as(\n",
        "select  count(user_id) cnt1\n",
        "from fb_active_users\n",
        "),\n",
        "temp2 as(\n",
        "select  count(user_id) cnt2\n",
        "from fb_active_users\n",
        "where Country='USA'\n",
        "and status='open'\n",
        ")\n",
        "\n",
        "select (cnt2/cnt1)*100 from temp1, temp2"
      ],
      "metadata": {
        "id": "kXE88JMNIigg"
      },
      "execution_count": null,
      "outputs": []
    }
  ]
}