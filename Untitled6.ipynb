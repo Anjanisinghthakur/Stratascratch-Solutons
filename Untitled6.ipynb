{
  "nbformat": 4,
  "nbformat_minor": 0,
  "metadata": {
    "colab": {
      "provenance": [],
      "authorship_tag": "ABX9TyPr+x9InQXFZBcP6Zx5j0AN",
      "include_colab_link": true
    },
    "kernelspec": {
      "name": "python3",
      "display_name": "Python 3"
    },
    "language_info": {
      "name": "python"
    }
  },
  "cells": [
    {
      "cell_type": "markdown",
      "metadata": {
        "id": "view-in-github",
        "colab_type": "text"
      },
      "source": [
        "<a href=\"https://colab.research.google.com/github/Anjanisinghthakur/Stratascratch-Solutons/blob/main/Untitled6.ipynb\" target=\"_parent\"><img src=\"https://colab.research.google.com/assets/colab-badge.svg\" alt=\"Open In Colab\"/></a>"
      ]
    },
    {
      "cell_type": "code",
      "execution_count": 1,
      "metadata": {
        "id": "czMk-p7JJ8bX"
      },
      "outputs": [],
      "source": [
        "#Unique Users Per Client Per Month\n",
        "#Write a query that returns the number of unique users per client per month.\n",
        "\n",
        "#Table: fact_events"
      ]
    },
    {
      "cell_type": "code",
      "source": [
        "#SQL solution\n",
        "select  client_id,month(time_id) month, count(distinct user_id) user_num from fact_events\n",
        "group by 1,2 ;"
      ],
      "metadata": {
        "id": "xrl4IxciMoAD"
      },
      "execution_count": null,
      "outputs": []
    },
    {
      "cell_type": "code",
      "source": [
        "# Import your libraries\n",
        "#Pyspark solutions\n",
        "import pyspark\n",
        "from pyspark .sql.functions import month,countDistinct\n",
        "\n",
        "# Start writing code\n",
        "fact_events\n",
        "\n",
        "fact_events=fact_events.select(fact_events.client_id, fact_events.time_id, fact_events.user_id)\n",
        "fact_events=fact_events.withColumn(\"months\",month(fact_events.time_id))\n",
        "fact_events=fact_events.groupBy(fact_events.months,fact_events.client_id).agg(countDistinct(fact_events.user_id).alias(\"users_num\"))\n",
        "fact_events.show()\n",
        "# To validate your solution, convert your final pySpark df to a pandas df\n",
        "fact_events.toPandas()"
      ],
      "metadata": {
        "id": "q5lcd1LpMsVS"
      },
      "execution_count": null,
      "outputs": []
    }
  ]
}