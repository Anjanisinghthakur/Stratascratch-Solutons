{
  "nbformat": 4,
  "nbformat_minor": 0,
  "metadata": {
    "colab": {
      "provenance": [],
      "authorship_tag": "ABX9TyPlLtfQ+4sGaXMYtdxMSjC6",
      "include_colab_link": true
    },
    "kernelspec": {
      "name": "python3",
      "display_name": "Python 3"
    },
    "language_info": {
      "name": "python"
    }
  },
  "cells": [
    {
      "cell_type": "markdown",
      "metadata": {
        "id": "view-in-github",
        "colab_type": "text"
      },
      "source": [
        "<a href=\"https://colab.research.google.com/github/Anjanisinghthakur/Stratascratch-Solutons/blob/main/Most_Lucrative_Products.ipynb\" target=\"_parent\"><img src=\"https://colab.research.google.com/assets/colab-badge.svg\" alt=\"Open In Colab\"/></a>"
      ]
    },
    {
      "cell_type": "code",
      "execution_count": null,
      "metadata": {
        "id": "I2CyoXzkH8Cv"
      },
      "outputs": [],
      "source": [
        "#Most Lucrative Products\n",
        "\n",
        "#You have been asked to find the 5 most lucrative products in terms of total revenue for the first half of 2022 (from January to June inclusive).\n",
        "\n",
        "\n",
        "#Output their IDs and the total revenue.\n",
        "\n",
        "#Table: online_orders\n"
      ]
    },
    {
      "cell_type": "code",
      "source": [
        "# Import your libraries\n",
        "# Pyspark code\n",
        "import pyspark\n",
        "from pyspark.sql.functions import *\n",
        "\n",
        "\n",
        "# Start writing code\n",
        "\n",
        "online_orders=online_orders.filter(year(online_orders.date_sold)==2022).filter(month(online_orders.date_sold).isin(1,2,3,4,5,6))\n",
        "online_orders=online_orders.withColumn(\"revenue\",online_orders.cost_in_dollars*online_orders.units_sold)\n",
        "online_orders=online_orders.groupBy(\"product_id\").agg(sum(\"revenue\").alias(\"revenue\"))\n",
        "res=online_orders.orderBy(online_orders.revenue.desc()).limit(5)\n",
        "res.show()\n",
        "\n",
        "# To validate your solution, convert your final pySpark df to a pandas df\n",
        "res.toPandas()"
      ],
      "metadata": {
        "id": "R0YBQh2OICpq"
      },
      "execution_count": null,
      "outputs": []
    },
    {
      "cell_type": "code",
      "source": [
        "#SQL code\n",
        "select product_id, sum(cost_in_dollars* units_sold) from online_orders\n",
        "where month(date_sold) in(1,2,3,4,5,6)\n",
        "group by 1\n",
        "order by 2 desc\n",
        "limit 5;\n"
      ],
      "metadata": {
        "id": "Yx54MbteNLQL"
      },
      "execution_count": null,
      "outputs": []
    }
  ]
}